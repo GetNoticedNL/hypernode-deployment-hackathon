{
 "cells": [
  {
   "cell_type": "markdown",
   "metadata": {
    "slideshow": {
     "slide_type": "slide"
    }
   },
   "source": [
    "# Hypernode deployment hackathon\n",
    "---\n",
    "_Rick van de Loo_<br>\n",
    "https://github.com/vdloo\n",
    "\n",
    "DevOps @ Byte"
   ]
  },
  {
   "cell_type": "markdown",
   "metadata": {
    "slideshow": {
     "slide_type": "slide"
    }
   },
   "source": [
    "### The reason why we are here today\n",
    "- Deployment is becoming a more integrated part of Magento development\n",
    "- Tied in with the release cycle, feature development and testing \n",
    "- The deployment pipeline becomes the center of DTAP\n",
    "- No canonical or standard way of doing it\n",
    "- Everybody is reinventing the wheel in their own silo."
   ]
  },
  {
   "cell_type": "markdown",
   "metadata": {
    "slideshow": {
     "slide_type": "slide"
    }
   },
   "source": [
    "### The current fragmented landscape\n",
    "- Lots of off open source of the shelf tools\n",
    "- No end to end \"this is how you're supposed to do it\" for Magento\n",
    "- Reason is that it heavily depends on your workflow and environment\n",
    "- No clear conceptual borders between the responsibility of tools\n",
    "- Solutions are cobbled together, messily mixing and matching components"
   ]
  },
  {
   "cell_type": "markdown",
   "metadata": {
    "slideshow": {
     "slide_type": "slide"
    }
   },
   "source": [
    "Concrete example 1\n",
    "<img src=\"media/concrete_example1.png\">"
   ]
  },
  {
   "cell_type": "markdown",
   "metadata": {
    "slideshow": {
     "slide_type": "slide"
    }
   },
   "source": [
    "Concrete example 2\n",
    "<img src=\"media/concrete_example2.png\">"
   ]
  },
  {
   "cell_type": "markdown",
   "metadata": {
    "slideshow": {
     "slide_type": "slide"
    }
   },
   "source": [
    "Abstract phases\n",
    "<img src=\"media/abstract_example1.png\">"
   ]
  },
  {
   "cell_type": "markdown",
   "metadata": {
    "slideshow": {
     "slide_type": "slide"
    }
   },
   "source": [
    "Abstract phases implementation examples\n",
    "<img src=\"media/abstract_example2.png\">"
   ]
  },
  {
   "cell_type": "markdown",
   "metadata": {
    "slideshow": {
     "slide_type": "slide"
    }
   },
   "source": [
    "### What we can do as a hoster\n",
    "- Contribute to a part of the process by providing tools / systems / services\n",
    "- Give end to end examples on how you 'can' do it\n",
    "- Provide an out of the box workflow\n",
    "- Help people navigate the complicated landscape\n",
    "- Point them in the right direction"
   ]
  },
  {
   "cell_type": "markdown",
   "metadata": {
    "slideshow": {
     "slide_type": "slide"
    }
   },
   "source": [
    "### Goal for today\n",
    "- Solidify a shared understanding of the components of the 'deployment problem'\n",
    "- Create a rough conceptual divide between component responsibilities\n",
    "- Create an example project that displays 'how to deploy on Hypernode'"
   ]
  },
  {
   "cell_type": "markdown",
   "metadata": {
    "slideshow": {
     "slide_type": "slide"
    }
   },
   "source": [
    "### Result\n",
    "- Highlighting the steps of a shop's deployment lifecycle\n",
    "- Knowledge sharing / something the community can draw inspiration from\n",
    "- Help us formulate a vision of what parts of the system we can contribute to (e.g. deployment pipeline / offer documentation + standard scripts)"
   ]
  },
  {
   "cell_type": "markdown",
   "metadata": {
    "slideshow": {
     "slide_type": "slide"
    }
   },
   "source": [
    "### Let's get started\n",
    "- Everyone gets two empty Hypernodes today\n",
    "- A Magento Grow node and a Magento Grow Dev node\n",
    "- Use dev node to perform builds and deploy on prod node (from dev node)"
   ]
  },
  {
   "cell_type": "markdown",
   "metadata": {
    "slideshow": {
     "slide_type": "slide"
    }
   },
   "source": [
    "### Requirements\n",
    "- Be able to base a new project on https://github.com/hypernode/hypernode-deployment-hackathon\n",
    "- A new feature branch (PR) can be tested and compiled on the dev node / deployed on the prod node\n",
    "- Build from the perspective of a pipeline system running the scripts\n",
    "- All components should preferably be modular. \n",
    "- It is OK to use deployer for the deployment recipe, but it should be able to be swapped out for capistrano, ansible, etc by users\n",
    "<img src=\"media/laptop_dev_prod_node.png\">"
   ]
  },
  {
   "cell_type": "markdown",
   "metadata": {
    "slideshow": {
     "slide_type": "slide"
    }
   },
   "source": [
    "# That's it\n",
    "---\n",
    "## You can find the end result, these slides and the Jupyter notebook here: https://github.com/hypernode/hypernode-deployment-hackathon"
   ]
  }
 ],
 "metadata": {
  "celltoolbar": "Slideshow",
  "kernelspec": {
   "display_name": "Python 2",
   "language": "python",
   "name": "python2"
  },
  "language_info": {
   "codemirror_mode": {
    "name": "ipython",
    "version": 2
   },
   "file_extension": ".py",
   "mimetype": "text/x-python",
   "name": "python",
   "nbconvert_exporter": "python",
   "pygments_lexer": "ipython2",
   "version": "2.7.12"
  }
 },
 "nbformat": 4,
 "nbformat_minor": 1
}
